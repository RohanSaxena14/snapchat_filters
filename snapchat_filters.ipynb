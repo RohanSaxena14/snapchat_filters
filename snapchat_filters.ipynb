{
  "nbformat": 4,
  "nbformat_minor": 0,
  "metadata": {
    "colab": {
      "name": "snapchat_filters.ipynb",
      "provenance": [],
      "collapsed_sections": [],
      "authorship_tag": "ABX9TyMuIqFjakKEMMtR3ENO7y/v",
      "include_colab_link": true
    },
    "kernelspec": {
      "name": "python3",
      "display_name": "Python 3"
    },
    "accelerator": "GPU"
  },
  "cells": [
    {
      "cell_type": "markdown",
      "metadata": {
        "id": "view-in-github",
        "colab_type": "text"
      },
      "source": [
        "<a href=\"https://colab.research.google.com/github/RohanSaxena14/snapchat_filters/blob/master/snapchat_filters.ipynb\" target=\"_parent\"><img src=\"https://colab.research.google.com/assets/colab-badge.svg\" alt=\"Open In Colab\"/></a>"
      ]
    },
    {
      "cell_type": "code",
      "metadata": {
        "id": "-sgxA3Kyu6GD",
        "colab_type": "code",
        "colab": {}
      },
      "source": [
        "!wget \"https://github.com/italojs/facial-landmarks-recognition/raw/master/shape_predictor_68_face_landmarks.dat\"\n",
        "!wget \"http://arunponnusamy.com/files/mmod_human_face_detector.dat\"\n",
        "!wget \"https://github.com/RohanSaxena14/snapchat_filters/raw/master/data/mr bean.mp4\"\n",
        "!wget \"https://github.com/RohanSaxena14/snapchat_filters/raw/master/data/Eye.png\"\n",
        "!wget \"https://github.com/RohanSaxena14/snapchat_filters/raw/master/data/tongue.png\""
      ],
      "execution_count": 0,
      "outputs": []
    },
    {
      "cell_type": "code",
      "metadata": {
        "id": "8QPW9860vpcy",
        "colab_type": "code",
        "colab": {}
      },
      "source": [
        "import cv2\n",
        "import dlib\n",
        "import numpy as np\n",
        "from google.colab.patches import cv2_imshow\n",
        "\n",
        "\n",
        "cnn_face_detector = dlib.cnn_face_detection_model_v1(\"/content/mmod_human_face_detector.dat\")\n",
        "face_detector = dlib.get_frontal_face_detector()\n",
        "predictor = dlib.shape_predictor(\"/content/shape_predictor_68_face_landmarks.dat\")"
      ],
      "execution_count": 0,
      "outputs": []
    },
    {
      "cell_type": "code",
      "metadata": {
        "id": "jS1S0ppJO1XN",
        "colab_type": "code",
        "colab": {}
      },
      "source": [
        "def insert_clipart(frame, points, size, clipart):\n",
        "  clipart = cv2.resize(clipart, (2*size, 2*size))\n",
        "  orig_mask = clipart[:,:,3]\n",
        "  inv_mask = 255 - orig_mask\n",
        "  clipart = clipart[:, :, 0:3]\n",
        "\n",
        "  cut = frame[points[1]: points[1] + 2*size, points[0]: points[0] + 2*size, :]\n",
        "  \n",
        "  cut = cv2.bitwise_and(cut, cut, mask = inv_mask)\n",
        "  clipart = cv2.bitwise_and(clipart, clipart, mask = orig_mask)\n",
        "\n",
        "  cut = cv2.add(cut, clipart)\n",
        "\n",
        "  frame[points[1]:points[1]+ 2*size, points[0]:points[0]+ 2*size, :] = cut\n",
        "\n",
        "  return frame"
      ],
      "execution_count": 0,
      "outputs": []
    },
    {
      "cell_type": "code",
      "metadata": {
        "id": "IqUPLbawqVDk",
        "colab_type": "code",
        "colab": {}
      },
      "source": [
        "cap = cv2.VideoCapture(\"mr bean.mp4\")\n",
        "\n",
        "ret, image = cap.read()\n",
        "\n",
        "fourcc = cv2.VideoWriter_fourcc(*'XVID')\n",
        "\n",
        "out = cv2.VideoWriter('output.avi',fourcc, 20.0, (image.shape[1], image.shape[0]))\n",
        "\n",
        "num = 0\n",
        "eye = cv2.imread(\"/content/Eye.png\", -1)\n",
        "\n",
        "while cap.isOpened():\n",
        "    ret, image = cap.read()\n",
        "    \n",
        "    num += 1\n",
        "    print(num)\n",
        "\n",
        "    if ret == False:\n",
        "      break\n",
        "    gray = cv2.cvtColor(image, cv2.COLOR_BGR2GRAY)\n",
        "\n",
        "    faces = cnn_face_detector(image, 1)\n",
        "\n",
        "    for face in faces:\n",
        "      '''\n",
        "      x = face.rect.left()\n",
        "      y = face.rect.top()\n",
        "      w = face.rect.right() - x\n",
        "      h = face.rect.bottom() - y\n",
        "      \n",
        "      cv2.rectangle(image, (x, y), (x+w, y+h), (0, 255, 0), 3)\n",
        "      '''\n",
        "      \n",
        "\n",
        "      points = predictor(gray, face.rect)\n",
        "\n",
        "      '''\n",
        "      for i in range(0, 68):\n",
        "        point = (points.part(i).x, points.part(i).y)\n",
        "\n",
        "        cv2.circle(image, point, 1, (0, 255, 0), -1)\n",
        "      '''\n",
        "      \n",
        "      p_38 = np.array([int((points.part(37).x + points.part(38).x)/2), int((points.part(37).y + points.part(38).y)/2)])\n",
        "      p_41 = np.array([int((points.part(40).x + points.part(41).x)/2), int((points.part(40).y + points.part(41).y)/2)])\n",
        "\n",
        "      p_44 = np.array([int((points.part(43).x + points.part(44).x)/2), int((points.part(43).y + points.part(44).y)/2)])\n",
        "      p_47 = np.array([int((points.part(46).x + points.part(47).x)/2), int((points.part(46).y + points.part(47).y)/2)])\n",
        "\n",
        "      p_43 = np.array([points.part(42).x, points.part(42).y])\n",
        "      p_46 = np.array([points.part(45).x, points.part(45).y])\n",
        "\n",
        "      p_37 = np.array([points.part(36).x, points.part(36).y])\n",
        "      p_40 = np.array([points.part(39).x, points.part(39).y])\n",
        "\n",
        "\n",
        "      eye_vertical_left = np.linalg.norm(p_38 - p_41).astype(int)\n",
        "      eye_vertical_right = np.linalg.norm(p_44 - p_47).astype(int)\n",
        "\n",
        "      eye_horizontal_right = np.linalg.norm(p_43 - p_46).astype(int)\n",
        "      eye_horizontal_left = np.linalg.norm(p_37 - p_40).astype(int)\n",
        "\n",
        "      #if eye_vertical_left/eye_horizontal_right >= 0.4 and eye_vertical_right/eye_horizontal_right >= 0.4: #if you want to add eyes only when your eyes are wide open\n",
        "      if True: #when you want to add eyes on all frames\n",
        "        corner_x = p_37[0] - int(eye_horizontal_left / 2)\n",
        "        corner_y = p_37[1] - eye_horizontal_left\n",
        "\n",
        "        points_left_eye = (corner_x, corner_y)\n",
        "\n",
        "        image = insert_clipart(image, points_left_eye, eye_horizontal_left, eye)\n",
        "\n",
        "        corner_x = p_43[0] - int(eye_horizontal_right / 2)\n",
        "        corner_y = p_43[1] - eye_horizontal_right\n",
        "\n",
        "        points_right_eye = (corner_x, corner_y)\n",
        "\n",
        "        image = insert_clipart(image, points_right_eye, eye_horizontal_right, eye)  \n",
        "    \n",
        "    out.write(image) \n",
        "\n",
        "cap.release()\n",
        "out.release()"
      ],
      "execution_count": 0,
      "outputs": []
    }
  ]
}